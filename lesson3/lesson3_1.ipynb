{
 "cells": [
  {
   "cell_type": "code",
   "execution_count": 2,
   "metadata": {},
   "outputs": [
    {
     "name": "stdout",
     "output_type": "stream",
     "text": [
      "Hello! Python!\n"
     ]
    }
   ],
   "source": [
    "print('Hello! Python!')"
   ]
  },
  {
   "cell_type": "code",
   "execution_count": 3,
   "metadata": {},
   "outputs": [
    {
     "name": "stdout",
     "output_type": "stream",
     "text": [
      "The Zen of Python, by Tim Peters\n",
      "\n",
      "Beautiful is better than ugly.\n",
      "Explicit is better than implicit.\n",
      "Simple is better than complex.\n",
      "Complex is better than complicated.\n",
      "Flat is better than nested.\n",
      "Sparse is better than dense.\n",
      "Readability counts.\n",
      "Special cases aren't special enough to break the rules.\n",
      "Although practicality beats purity.\n",
      "Errors should never pass silently.\n",
      "Unless explicitly silenced.\n",
      "In the face of ambiguity, refuse the temptation to guess.\n",
      "There should be one-- and preferably only one --obvious way to do it.\n",
      "Although that way may not be obvious at first unless you're Dutch.\n",
      "Now is better than never.\n",
      "Although never is often better than *right* now.\n",
      "If the implementation is hard to explain, it's a bad idea.\n",
      "If the implementation is easy to explain, it may be a good idea.\n",
      "Namespaces are one honking great idea -- let's do more of those!\n"
     ]
    }
   ],
   "source": [
    "import this"
   ]
  },
  {
   "cell_type": "code",
   "execution_count": 1,
   "metadata": {},
   "outputs": [
    {
     "data": {
      "text/plain": [
       "10"
      ]
     },
     "execution_count": 1,
     "metadata": {},
     "output_type": "execute_result"
    }
   ],
   "source": [
    "2 * (1+2) ** 2 - 2 ** 2 * 2"
   ]
  },
  {
   "cell_type": "code",
   "execution_count": 2,
   "metadata": {},
   "outputs": [],
   "source": [
    "n1 = 3 + 2\n",
    "n2 = 5 * 6 "
   ]
  },
  {
   "cell_type": "code",
   "execution_count": 6,
   "metadata": {},
   "outputs": [
    {
     "name": "stdout",
     "output_type": "stream",
     "text": [
      "144.4華氏度 = 62.5攝氏度\n",
      "144.4華氏度 = 62.5攝氏度\n"
     ]
    }
   ],
   "source": [
    "f = float(input('請輸入華氏溫度: '))\n",
    "c = (f - 32) / 1.8\n",
    "print('%.1f華氏度 = %.1f攝氏度' % (f, c))\n",
    "print(f'{f:.1f}華氏度 = {c:.1f}攝氏度')"
   ]
  },
  {
   "cell_type": "code",
   "execution_count": 11,
   "metadata": {},
   "outputs": [
    {
     "name": "stdout",
     "output_type": "stream",
     "text": [
      "20\n",
      "30\n"
     ]
    }
   ],
   "source": [
    "# = 指定運算子\n",
    "n = 5\n",
    "n = n + 5\n",
    "n = n * 2\n",
    "print (n)\n",
    "\n",
    "# += 複合指定運算子\n",
    "m = 5\n",
    "m+= 10\n",
    "m *= 2\n",
    "print(m)"
   ]
  },
  {
   "cell_type": "code",
   "execution_count": 50,
   "metadata": {},
   "outputs": [
    {
     "name": "stdout",
     "output_type": "stream",
     "text": [
      "radius =  100.0\n",
      "周長: 628.319\n",
      "面積: 31415.93\n",
      "面積  31415.926536\n"
     ]
    }
   ],
   "source": [
    "import math\n",
    "\n",
    "radius = float(input('請輸入圓的半徑: '))\n",
    "perimeter = 2 * math.pi * radius\n",
    "area = math.pi * radius ** 2\n",
    "print('radius = ',radius)\n",
    "print('周長: %.3f' % perimeter)\n",
    "print('面積: %.2f' % area)\n",
    "print('面積 % 6f'% area)"
   ]
  },
  {
   "cell_type": "code",
   "execution_count": 37,
   "metadata": {},
   "outputs": [
    {
     "name": "stdout",
     "output_type": "stream",
     "text": [
      "144\n",
      "True\n"
     ]
    }
   ],
   "source": [
    "year = int(input('請輸入年份: '))\n",
    "# 如果程式碼太長寫成一行不便於閱讀 可以使用\\對程式碼進行折行\n",
    "is_leap = year % 4 == 0 and year % 100 != 0 or \\\n",
    "          year % 400 == 0\n",
    "print(year)\n",
    "print(is_leap)"
   ]
  },
  {
   "cell_type": "code",
   "execution_count": 35,
   "metadata": {},
   "outputs": [
    {
     "name": "stdout",
     "output_type": "stream",
     "text": [
      "value= 3\n"
     ]
    },
    {
     "data": {
      "text/plain": [
       "int"
      ]
     },
     "execution_count": 35,
     "metadata": {},
     "output_type": "execute_result"
    }
   ],
   "source": [
    "value = int(input('請輸入整數：'))\n",
    "print('value=',value)\n",
    "type(value)\n"
   ]
  },
  {
   "cell_type": "code",
   "execution_count": 46,
   "metadata": {},
   "outputs": [
    {
     "name": "stdout",
     "output_type": "stream",
     "text": [
      "寬 = 2.0\n",
      "高 = 3.0\n",
      "矩形面積 = 6.0\n"
     ]
    }
   ],
   "source": [
    "# 請輸入矩陣的寬和長\n",
    "width = float(input(\"請輸入寬\"))\n",
    "height = float(input(\"請輸入高\"))\n",
    "print(\"寬 =\",width)\n",
    "print(\"高 =\",height)\n",
    "print(\"矩形面積 =\",width * height)"
   ]
  },
  {
   "cell_type": "code",
   "execution_count": 52,
   "metadata": {},
   "outputs": [
    {
     "name": "stdout",
     "output_type": "stream",
     "text": [
      "圓周率： 3.0 角度為： 172\n"
     ]
    }
   ],
   "source": [
    "pi = float(input('請輸入圓周率'))\n",
    "degree = math.degrees(pi)\n",
    "print('圓周率：', pi, \"角度為：\", round(degree))"
   ]
  }
 ],
 "metadata": {
  "kernelspec": {
   "display_name": "Python 3",
   "language": "python",
   "name": "python3"
  },
  "language_info": {
   "codemirror_mode": {
    "name": "ipython",
    "version": 3
   },
   "file_extension": ".py",
   "mimetype": "text/x-python",
   "name": "python",
   "nbconvert_exporter": "python",
   "pygments_lexer": "ipython3",
   "version": "3.12.1"
  }
 },
 "nbformat": 4,
 "nbformat_minor": 2
}
