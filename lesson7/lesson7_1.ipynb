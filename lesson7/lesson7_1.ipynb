{
 "cells": [
  {
   "cell_type": "code",
   "execution_count": 1,
   "metadata": {},
   "outputs": [
    {
     "name": "stdout",
     "output_type": "stream",
     "text": [
      "1 a 0.1 4 c\n"
     ]
    }
   ],
   "source": [
    "#引數值的呼叫，省略了default值\n",
    "print(1,'a',0.1,4,'c')"
   ]
  },
  {
   "cell_type": "code",
   "execution_count": 2,
   "metadata": {},
   "outputs": [
    {
     "name": "stdout",
     "output_type": "stream",
     "text": [
      "1-a-0.1-4-c\n"
     ]
    }
   ],
   "source": [
    "print(1,'a',0.1,4,'c',sep='-')\n",
    "#引數值的呼叫一定在後面\n",
    "#sep是間隔"
   ]
  },
  {
   "cell_type": "code",
   "execution_count": 3,
   "metadata": {},
   "outputs": [
    {
     "name": "stdout",
     "output_type": "stream",
     "text": [
      "1-a-0.1-4-c.\n"
     ]
    }
   ],
   "source": [
    "print(1,'a',0.1,4,'c',sep='-',end='.\\n')\n",
    "#引數值的呼叫一定在後面\n",
    "#sep是間隔"
   ]
  }
 ],
 "metadata": {
  "kernelspec": {
   "display_name": "Python 3",
   "language": "python",
   "name": "python3"
  },
  "language_info": {
   "codemirror_mode": {
    "name": "ipython",
    "version": 3
   },
   "file_extension": ".py",
   "mimetype": "text/x-python",
   "name": "python",
   "nbconvert_exporter": "python",
   "pygments_lexer": "ipython3",
   "version": "3.12.1"
  }
 },
 "nbformat": 4,
 "nbformat_minor": 2
}
